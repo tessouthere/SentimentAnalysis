{
 "cells": [
  {
   "cell_type": "code",
   "execution_count": 1,
   "id": "acad4962",
   "metadata": {},
   "outputs": [],
   "source": [
    "import pandas as pd  \n",
    "import sklearn\n",
    "import matplotlib.pyplot as plt\n",
    "import seaborn as sns\n",
    "jsonObj = pd.read_json(path_or_buf='train.jsonl', lines=True)"
   ]
  },
  {
   "cell_type": "code",
   "execution_count": 2,
   "id": "41c6b93e",
   "metadata": {},
   "outputs": [
    {
     "data": {
      "text/html": [
       "<div>\n",
       "<style scoped>\n",
       "    .dataframe tbody tr th:only-of-type {\n",
       "        vertical-align: middle;\n",
       "    }\n",
       "\n",
       "    .dataframe tbody tr th {\n",
       "        vertical-align: top;\n",
       "    }\n",
       "\n",
       "    .dataframe thead th {\n",
       "        text-align: right;\n",
       "    }\n",
       "</style>\n",
       "<table border=\"1\" class=\"dataframe\">\n",
       "  <thead>\n",
       "    <tr style=\"text-align: right;\">\n",
       "      <th></th>\n",
       "      <th>text</th>\n",
       "      <th>label</th>\n",
       "    </tr>\n",
       "  </thead>\n",
       "  <tbody>\n",
       "    <tr>\n",
       "      <th>0</th>\n",
       "      <td>The project will make a significant contributi...</td>\n",
       "      <td>1</td>\n",
       "    </tr>\n",
       "    <tr>\n",
       "      <th>1</th>\n",
       "      <td>So in -- first of all, the segments, we are --...</td>\n",
       "      <td>0</td>\n",
       "    </tr>\n",
       "    <tr>\n",
       "      <th>2</th>\n",
       "      <td>Building a smarter and stronger energy grid th...</td>\n",
       "      <td>0</td>\n",
       "    </tr>\n",
       "    <tr>\n",
       "      <th>3</th>\n",
       "      <td>Generally, first of all our Transmission depar...</td>\n",
       "      <td>0</td>\n",
       "    </tr>\n",
       "    <tr>\n",
       "      <th>4</th>\n",
       "      <td>But for the most part, our challenge is showin...</td>\n",
       "      <td>0</td>\n",
       "    </tr>\n",
       "  </tbody>\n",
       "</table>\n",
       "</div>"
      ],
      "text/plain": [
       "                                                text  label\n",
       "0  The project will make a significant contributi...      1\n",
       "1  So in -- first of all, the segments, we are --...      0\n",
       "2  Building a smarter and stronger energy grid th...      0\n",
       "3  Generally, first of all our Transmission depar...      0\n",
       "4  But for the most part, our challenge is showin...      0"
      ]
     },
     "execution_count": 2,
     "metadata": {},
     "output_type": "execute_result"
    }
   ],
   "source": [
    "jsonObj.head()"
   ]
  },
  {
   "cell_type": "markdown",
   "id": "62844799",
   "metadata": {},
   "source": [
    "#### EDA"
   ]
  },
  {
   "cell_type": "code",
   "execution_count": 3,
   "id": "9e06fc9b",
   "metadata": {},
   "outputs": [
    {
     "data": {
      "image/png": "[encoded data removed]",
      "text/plain": [
       "<Figure size 640x480 with 1 Axes>"
      ]
     },
     "metadata": {},
     "output_type": "display_data"
    }
   ],
   "source": [
    "labels_hist=sns.histplot(data=jsonObj,\n",
    "                      x='label')\n",
    "plt.title('Distribution of Labels')\n",
    "plt.show()"
   ]
  },
  {
   "cell_type": "code",
   "execution_count": 4,
   "id": "ef3b132f",
   "metadata": {},
   "outputs": [
    {
     "name": "stderr",
     "output_type": "stream",
     "text": [
      "[nltk_data] Downloading package vader_lexicon to\n",
      "[nltk_data]     /Users/tessanderson/nltk_data...\n",
      "[nltk_data]   Package vader_lexicon is already up-to-date!\n"
     ]
    }
   ],
   "source": [
    "import nltk\n",
    "\n",
    "# Download the lexicon\n",
    "nltk.download(\"vader_lexicon\")\n",
    "\n",
    "# Import the lexicon \n",
    "from nltk.sentiment.vader import SentimentIntensityAnalyzer\n",
    "\n",
    "# Create an instance of SentimentIntensityAnalyzer\n",
    "sent_analyzer = SentimentIntensityAnalyzer()"
   ]
  },
  {
   "cell_type": "code",
   "execution_count": 5,
   "id": "35344bea",
   "metadata": {},
   "outputs": [
    {
     "data": {
      "text/html": [
       "<div>\n",
       "<style scoped>\n",
       "    .dataframe tbody tr th:only-of-type {\n",
       "        vertical-align: middle;\n",
       "    }\n",
       "\n",
       "    .dataframe tbody tr th {\n",
       "        vertical-align: top;\n",
       "    }\n",
       "\n",
       "    .dataframe thead th {\n",
       "        text-align: right;\n",
       "    }\n",
       "</style>\n",
       "<table border=\"1\" class=\"dataframe\">\n",
       "  <thead>\n",
       "    <tr style=\"text-align: right;\">\n",
       "      <th></th>\n",
       "      <th>text</th>\n",
       "      <th>label</th>\n",
       "      <th>vader_prediction</th>\n",
       "    </tr>\n",
       "  </thead>\n",
       "  <tbody>\n",
       "    <tr>\n",
       "      <th>1510</th>\n",
       "      <td>As part of its investment policy, Legrand’s ma...</td>\n",
       "      <td>1</td>\n",
       "      <td>1</td>\n",
       "    </tr>\n",
       "    <tr>\n",
       "      <th>2107</th>\n",
       "      <td>With our full awareness of the current energy ...</td>\n",
       "      <td>0</td>\n",
       "      <td>1</td>\n",
       "    </tr>\n",
       "    <tr>\n",
       "      <th>443</th>\n",
       "      <td>Contacts for integrity-related questions and i...</td>\n",
       "      <td>0</td>\n",
       "      <td>1</td>\n",
       "    </tr>\n",
       "    <tr>\n",
       "      <th>1454</th>\n",
       "      <td>So the -- as part of the announced restructuri...</td>\n",
       "      <td>0</td>\n",
       "      <td>1</td>\n",
       "    </tr>\n",
       "    <tr>\n",
       "      <th>1159</th>\n",
       "      <td>So far with the spring/summer orders -- I'm ta...</td>\n",
       "      <td>0</td>\n",
       "      <td>0</td>\n",
       "    </tr>\n",
       "  </tbody>\n",
       "</table>\n",
       "</div>"
      ],
      "text/plain": [
       "                                                   text  label  \\\n",
       "1510  As part of its investment policy, Legrand’s ma...      1   \n",
       "2107  With our full awareness of the current energy ...      0   \n",
       "443   Contacts for integrity-related questions and i...      0   \n",
       "1454  So the -- as part of the announced restructuri...      0   \n",
       "1159  So far with the spring/summer orders -- I'm ta...      0   \n",
       "\n",
       "      vader_prediction  \n",
       "1510                 1  \n",
       "2107                 1  \n",
       "443                  1  \n",
       "1454                 1  \n",
       "1159                 0  "
      ]
     },
     "execution_count": 5,
     "metadata": {},
     "output_type": "execute_result"
    }
   ],
   "source": [
    "def format_output(output_dict):\n",
    "    sentiment=False\n",
    "    if(output_dict['compound']>0):\n",
    "        sentiment=1\n",
    "    else:\n",
    "        sentiment=0\n",
    "    return sentiment\n",
    "def predict_sentiment(text):\n",
    "    output_dict = sent_analyzer.polarity_scores(text)\n",
    "    return format_output(output_dict)\n",
    "\n",
    "# running the predictions\n",
    "jsonObj['vader_prediction']=jsonObj['text'].apply(predict_sentiment)\n",
    "jsonObj.sample(5)"
   ]
  },
  {
   "cell_type": "code",
   "execution_count": 6,
   "id": "70963c40",
   "metadata": {},
   "outputs": [
    {
     "name": "stdout",
     "output_type": "stream",
     "text": [
      "Accuracy: 0.4723665564478035\n",
      "\n",
      "              precision    recall  f1-score   support\n",
      "\n",
      "           0       0.81      0.38      0.52      1585\n",
      "           1       0.29      0.74      0.41       532\n",
      "\n",
      "    accuracy                           0.47      2117\n",
      "   macro avg       0.55      0.56      0.47      2117\n",
      "weighted avg       0.68      0.47      0.49      2117\n",
      "\n"
     ]
    }
   ],
   "source": [
    "from sklearn.metrics import accuracy_score, classification_report\n",
    "\n",
    "accuracy = accuracy_score(jsonObj['label'],jsonObj['vader_prediction'])\n",
    "\n",
    "print(\"Accuracy: {}\\n\".format(accuracy))\n",
    "\n",
    "print(classification_report(jsonObj['label'],jsonObj['vader_prediction']))"
   ]
  },
  {
   "cell_type": "markdown",
   "id": "d9102a99",
   "metadata": {},
   "source": [
    "#### Textblob Sentiment Analysis"
   ]
  },
  {
   "cell_type": "code",
   "execution_count": 7,
   "id": "488dcb1f",
   "metadata": {},
   "outputs": [],
   "source": [
    "from textblob import TextBlob"
   ]
  },
  {
   "cell_type": "code",
   "execution_count": 8,
   "id": "baeecad1",
   "metadata": {},
   "outputs": [],
   "source": [
    "def sentiment_analysis(text):\n",
    " def getSubjectivity(text):\n",
    "   return TextBlob(text).sentiment.subjectivity\n",
    "  \n",
    " #Create a function to get the polarity\n",
    " def getPolarity(text):\n",
    "   return TextBlob(text).sentiment.polarity\n",
    "  \n",
    " #Create two new columns ‘Subjectivity’ & ‘Polarity’\n",
    " text['TextBlob_Subjectivity'] =    text['text'].apply(getSubjectivity)\n",
    " text ['TextBlob_Polarity'] = text['text'].apply(getPolarity)\n",
    " def getAnalysis(score):\n",
    "  if score < 0:\n",
    "    return 'Negative'\n",
    "  elif score == 0:\n",
    "    return 'Neutral'\n",
    "  else:\n",
    "    return 'Positive'\n",
    " text ['TextBlob_Analysis'] = text  ['TextBlob_Polarity'].apply(getAnalysis )\n",
    " return text"
   ]
  },
  {
   "cell_type": "code",
   "execution_count": 12,
   "id": "af0de483",
   "metadata": {},
   "outputs": [],
   "source": [
    "def sentiment_analysis(text):\n",
    " def getSubjectivity(text):\n",
    "   return TextBlob(text).sentiment.subjectivity\n",
    "  \n",
    " #Create a function to get the polarity\n",
    " def getPolarity(text):\n",
    "   return TextBlob(text).sentiment.polarity\n",
    "  \n",
    " #Create two new columns ‘Subjectivity’ & ‘Polarity’\n",
    " text['TextBlob_Subjectivity'] =    text['text'].apply(getSubjectivity)\n",
    " text ['TextBlob_Polarity'] = text['text'].apply(getPolarity)\n",
    " def getAnalysis(score):\n",
    "  if score <= 0:\n",
    "    return 0\n",
    "  else:\n",
    "    return 1\n",
    " text ['TextBlob_Analysis'] = text  ['TextBlob_Polarity'].apply(getAnalysis )\n",
    " return text"
   ]
  },
  {
   "cell_type": "code",
   "execution_count": 13,
   "id": "125a1756",
   "metadata": {},
   "outputs": [],
   "source": [
    "tb_jsonObj=sentiment_analysis(jsonObj)"
   ]
  },
  {
   "cell_type": "code",
   "execution_count": 14,
   "id": "c6064b5a",
   "metadata": {},
   "outputs": [
    {
     "name": "stdout",
     "output_type": "stream",
     "text": [
      "Accuracy: 0.4827586206896552\n",
      "\n",
      "              precision    recall  f1-score   support\n",
      "\n",
      "           0       0.74      0.48      0.58      1585\n",
      "           1       0.24      0.50      0.33       532\n",
      "\n",
      "    accuracy                           0.48      2117\n",
      "   macro avg       0.49      0.49      0.45      2117\n",
      "weighted avg       0.62      0.48      0.52      2117\n",
      "\n"
     ]
    }
   ],
   "source": [
    "accuracy = accuracy_score(jsonObj['label'],tb_jsonObj['TextBlob_Analysis'])\n",
    "\n",
    "print(\"Accuracy: {}\\n\".format(accuracy))\n",
    "\n",
    "print(classification_report(jsonObj['label'],tb_jsonObj['TextBlob_Analysis']))"
   ]
  },
  {
   "cell_type": "markdown",
   "id": "cb5d37de",
   "metadata": {},
   "source": [
    "#### Flair"
   ]
  },
  {
   "cell_type": "code",
   "execution_count": 36,
   "id": "46216c80",
   "metadata": {},
   "outputs": [],
   "source": [
    "import flair\n",
    "from flair.models import TextClassifier\n",
    "from flair.data import Sentence\n",
    "from segtok.segmenter import split_single\n",
    "import re\n",
    "\n",
    "classifier = TextClassifier.load('en-sentiment')"
   ]
  },
  {
   "cell_type": "code",
   "execution_count": 30,
   "id": "0ec1e629",
   "metadata": {},
   "outputs": [],
   "source": [
    "def clean(raw):\n",
    "    \"\"\" Remove hyperlinks and markup \"\"\"\n",
    "    result = re.sub(\"<[a][^>]*>(.+?)</[a]>\", 'Link.', raw)\n",
    "    result = re.sub('&gt;', \"\", result)\n",
    "    result = re.sub('&#x27;', \"'\", result)\n",
    "    result = re.sub('&quot;', '\"', result)\n",
    "    result = re.sub('&#x2F;', ' ', result)\n",
    "    result = re.sub('<p>', ' ', result)\n",
    "    result = re.sub('</i>', '', result)\n",
    "    result = re.sub('&#62;', '', result)\n",
    "    result = re.sub('<i>', ' ', result)\n",
    "    result = re.sub(\"\\n\", '', result)\n",
    "    return result"
   ]
  },
  {
   "cell_type": "code",
   "execution_count": 31,
   "id": "20f1762f",
   "metadata": {},
   "outputs": [],
   "source": [
    "def make_sentences(text):\n",
    "    \"\"\" Break apart text into a list of sentences \"\"\"\n",
    "    sentences = [sent for sent in split_single(text)]\n",
    "    return sentences"
   ]
  },
  {
   "cell_type": "code",
   "execution_count": 47,
   "id": "9c47ba28",
   "metadata": {},
   "outputs": [],
   "source": [
    "def predict(sentence):\n",
    "    \"\"\" Predict the sentiment of a sentence \"\"\"\n",
    "    if sentence == \"\":\n",
    "        return 0\n",
    "    text = Sentence(sentence)\n",
    "    # stacked_embeddings.embed(text)\n",
    "    classifier.predict(text)\n",
    "    value = text.labels[0].to_dict()['value'] \n",
    "    if value == 'POSITIVE':\n",
    "        result = text.to_dict()['labels'][0]['confidence']\n",
    "    else:\n",
    "        result = -(text.to_dict()['labels'][0]['confidence'])\n",
    "    return round(result, 3)"
   ]
  },
  {
   "cell_type": "code",
   "execution_count": 33,
   "id": "afcd5525",
   "metadata": {},
   "outputs": [],
   "source": [
    "def get_scores(sentences):\n",
    "    \"\"\" Call predict on every sentence of a text \"\"\"\n",
    "    results = []\n",
    "    \n",
    "    for i in range(0, len(sentences)): \n",
    "        results.append(predict(sentences[i]))\n",
    "    return results\n",
    "\n",
    "def get_sum(scores):\n",
    "    \n",
    "    result = round(sum(scores), 3)\n",
    "    return result"
   ]
  },
  {
   "cell_type": "code",
   "execution_count": 48,
   "id": "e6d7fadd",
   "metadata": {},
   "outputs": [
    {
     "ename": "KeyError",
     "evalue": "'lass'",
     "output_type": "error",
     "traceback": [
      "\u001b[0;31m---------------------------------------------------------------------------\u001b[0m",
      "\u001b[0;31mKeyError\u001b[0m                                  Traceback (most recent call last)",
      "Cell \u001b[0;32mIn[48], line 6\u001b[0m\n\u001b[1;32m      4\u001b[0m df\u001b[39m.\u001b[39mtext \u001b[39m=\u001b[39m df\u001b[39m.\u001b[39mtext\u001b[39m.\u001b[39mapply(clean)\n\u001b[1;32m      5\u001b[0m df[\u001b[39m'\u001b[39m\u001b[39msentences\u001b[39m\u001b[39m'\u001b[39m] \u001b[39m=\u001b[39m df\u001b[39m.\u001b[39mtext\u001b[39m.\u001b[39mapply(make_sentences)\n\u001b[0;32m----> 6\u001b[0m df[\u001b[39m'\u001b[39m\u001b[39mscores\u001b[39m\u001b[39m'\u001b[39m] \u001b[39m=\u001b[39m df[\u001b[39m'\u001b[39;49m\u001b[39msentences\u001b[39;49m\u001b[39m'\u001b[39;49m]\u001b[39m.\u001b[39;49mapply(get_scores)\n\u001b[1;32m      7\u001b[0m \u001b[39m#df['scores_sum'] = df.scores.apply(get_sum)\u001b[39;00m\n",
      "File \u001b[0;32m~/anaconda3/envs/thesiswork/lib/python3.10/site-packages/pandas/core/series.py:4630\u001b[0m, in \u001b[0;36mSeries.apply\u001b[0;34m(self, func, convert_dtype, args, **kwargs)\u001b[0m\n\u001b[1;32m   4520\u001b[0m \u001b[39mdef\u001b[39;00m \u001b[39mapply\u001b[39m(\n\u001b[1;32m   4521\u001b[0m     \u001b[39mself\u001b[39m,\n\u001b[1;32m   4522\u001b[0m     func: AggFuncType,\n\u001b[0;32m   (...)\u001b[0m\n\u001b[1;32m   4525\u001b[0m     \u001b[39m*\u001b[39m\u001b[39m*\u001b[39mkwargs,\n\u001b[1;32m   4526\u001b[0m ) \u001b[39m-\u001b[39m\u001b[39m>\u001b[39m DataFrame \u001b[39m|\u001b[39m Series:\n\u001b[1;32m   4527\u001b[0m \u001b[39m    \u001b[39m\u001b[39m\"\"\"\u001b[39;00m\n\u001b[1;32m   4528\u001b[0m \u001b[39m    Invoke function on values of Series.\u001b[39;00m\n\u001b[1;32m   4529\u001b[0m \n\u001b[0;32m   (...)\u001b[0m\n\u001b[1;32m   4628\u001b[0m \u001b[39m    dtype: float64\u001b[39;00m\n\u001b[1;32m   4629\u001b[0m \u001b[39m    \"\"\"\u001b[39;00m\n\u001b[0;32m-> 4630\u001b[0m     \u001b[39mreturn\u001b[39;00m SeriesApply(\u001b[39mself\u001b[39;49m, func, convert_dtype, args, kwargs)\u001b[39m.\u001b[39;49mapply()\n",
      "File \u001b[0;32m~/anaconda3/envs/thesiswork/lib/python3.10/site-packages/pandas/core/apply.py:1025\u001b[0m, in \u001b[0;36mSeriesApply.apply\u001b[0;34m(self)\u001b[0m\n\u001b[1;32m   1022\u001b[0m     \u001b[39mreturn\u001b[39;00m \u001b[39mself\u001b[39m\u001b[39m.\u001b[39mapply_str()\n\u001b[1;32m   1024\u001b[0m \u001b[39m# self.f is Callable\u001b[39;00m\n\u001b[0;32m-> 1025\u001b[0m \u001b[39mreturn\u001b[39;00m \u001b[39mself\u001b[39;49m\u001b[39m.\u001b[39;49mapply_standard()\n",
      "File \u001b[0;32m~/anaconda3/envs/thesiswork/lib/python3.10/site-packages/pandas/core/apply.py:1076\u001b[0m, in \u001b[0;36mSeriesApply.apply_standard\u001b[0;34m(self)\u001b[0m\n\u001b[1;32m   1074\u001b[0m     \u001b[39melse\u001b[39;00m:\n\u001b[1;32m   1075\u001b[0m         values \u001b[39m=\u001b[39m obj\u001b[39m.\u001b[39mastype(\u001b[39mobject\u001b[39m)\u001b[39m.\u001b[39m_values\n\u001b[0;32m-> 1076\u001b[0m         mapped \u001b[39m=\u001b[39m lib\u001b[39m.\u001b[39;49mmap_infer(\n\u001b[1;32m   1077\u001b[0m             values,\n\u001b[1;32m   1078\u001b[0m             f,\n\u001b[1;32m   1079\u001b[0m             convert\u001b[39m=\u001b[39;49m\u001b[39mself\u001b[39;49m\u001b[39m.\u001b[39;49mconvert_dtype,\n\u001b[1;32m   1080\u001b[0m         )\n\u001b[1;32m   1082\u001b[0m \u001b[39mif\u001b[39;00m \u001b[39mlen\u001b[39m(mapped) \u001b[39mand\u001b[39;00m \u001b[39misinstance\u001b[39m(mapped[\u001b[39m0\u001b[39m], ABCSeries):\n\u001b[1;32m   1083\u001b[0m     \u001b[39m# GH#43986 Need to do list(mapped) in order to get treated as nested\u001b[39;00m\n\u001b[1;32m   1084\u001b[0m     \u001b[39m#  See also GH#25959 regarding EA support\u001b[39;00m\n\u001b[1;32m   1085\u001b[0m     \u001b[39mreturn\u001b[39;00m obj\u001b[39m.\u001b[39m_constructor_expanddim(\u001b[39mlist\u001b[39m(mapped), index\u001b[39m=\u001b[39mobj\u001b[39m.\u001b[39mindex)\n",
      "File \u001b[0;32m~/anaconda3/envs/thesiswork/lib/python3.10/site-packages/pandas/_libs/lib.pyx:2834\u001b[0m, in \u001b[0;36mpandas._libs.lib.map_infer\u001b[0;34m()\u001b[0m\n",
      "Cell \u001b[0;32mIn[33], line 6\u001b[0m, in \u001b[0;36mget_scores\u001b[0;34m(sentences)\u001b[0m\n\u001b[1;32m      3\u001b[0m results \u001b[39m=\u001b[39m []\n\u001b[1;32m      5\u001b[0m \u001b[39mfor\u001b[39;00m i \u001b[39min\u001b[39;00m \u001b[39mrange\u001b[39m(\u001b[39m0\u001b[39m, \u001b[39mlen\u001b[39m(sentences)): \n\u001b[0;32m----> 6\u001b[0m     results\u001b[39m.\u001b[39mappend(predict(sentences[i]))\n\u001b[1;32m      7\u001b[0m \u001b[39mreturn\u001b[39;00m results\n",
      "Cell \u001b[0;32mIn[47], line 10\u001b[0m, in \u001b[0;36mpredict\u001b[0;34m(sentence)\u001b[0m\n\u001b[1;32m      8\u001b[0m value \u001b[39m=\u001b[39m text\u001b[39m.\u001b[39mlabels[\u001b[39m0\u001b[39m]\u001b[39m.\u001b[39mto_dict()[\u001b[39m'\u001b[39m\u001b[39mvalue\u001b[39m\u001b[39m'\u001b[39m] \n\u001b[1;32m      9\u001b[0m \u001b[39mif\u001b[39;00m value \u001b[39m==\u001b[39m \u001b[39m'\u001b[39m\u001b[39mPOSITIVE\u001b[39m\u001b[39m'\u001b[39m:\n\u001b[0;32m---> 10\u001b[0m     result \u001b[39m=\u001b[39m text\u001b[39m.\u001b[39;49mto_dict()[\u001b[39m'\u001b[39;49m\u001b[39mlass\u001b[39;49m\u001b[39m'\u001b[39;49m][\u001b[39m0\u001b[39m][\u001b[39m'\u001b[39m\u001b[39mconfidence\u001b[39m\u001b[39m'\u001b[39m]\n\u001b[1;32m     11\u001b[0m \u001b[39melse\u001b[39;00m:\n\u001b[1;32m     12\u001b[0m     result \u001b[39m=\u001b[39m \u001b[39m-\u001b[39m(text\u001b[39m.\u001b[39mto_dict()[\u001b[39m'\u001b[39m\u001b[39mlass\u001b[39m\u001b[39m'\u001b[39m][\u001b[39m0\u001b[39m][\u001b[39m'\u001b[39m\u001b[39mconfidence\u001b[39m\u001b[39m'\u001b[39m])\n",
      "\u001b[0;31mKeyError\u001b[0m: 'lass'"
     ]
    }
   ],
   "source": [
    "df = pd.read_json('train.jsonl', lines=True)\n",
    "df = df.dropna()\n",
    "df = df.reset_index(drop=True)\n",
    "df.text = df.text.apply(clean)\n",
    "df['sentences'] = df.text.apply(make_sentences)\n",
    "df['scores'] = df['sentences'].apply(get_scores)\n",
    "#df['scores_sum'] = df.scores.apply(get_sum)"
   ]
  }
 ],
 "metadata": {
  "kernelspec": {
   "display_name": "Python 3 (ipykernel)",
   "language": "python",
   "name": "python3"
  },
  "language_info": {
   "codemirror_mode": {
    "name": "ipython",
    "version": 3
   },
   "file_extension": ".py",
   "mimetype": "text/x-python",
   "name": "python",
   "nbconvert_exporter": "python",
   "pygments_lexer": "ipython3",
   "version": "3.10.13"
  }
 },
 "nbformat": 4,
 "nbformat_minor": 5
}
