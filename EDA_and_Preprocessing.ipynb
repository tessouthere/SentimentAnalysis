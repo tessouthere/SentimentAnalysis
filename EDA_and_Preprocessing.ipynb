{
 "cells": [
  {
   "cell_type": "markdown",
   "metadata": {},
   "source": [
    "EDA and Preprocessing"
   ]
  },
  {
   "cell_type": "code",
   "execution_count": 14,
   "metadata": {},
   "outputs": [
    {
     "name": "stdout",
     "output_type": "stream",
     "text": [
      "Collecting pydataset\n",
      "  Downloading pydataset-0.2.0.tar.gz (15.9 MB)\n",
      "\u001b[2K     \u001b[90m━━━━━━━━━━━━━━━━━━━━━━━━━━━━━━━━━━━━━━━━\u001b[0m \u001b[32m15.9/15.9 MB\u001b[0m \u001b[31m31.7 MB/s\u001b[0m eta \u001b[36m0:00:00\u001b[0m00:01\u001b[0m00:01\u001b[0m\n",
      "\u001b[?25h  Preparing metadata (setup.py) ... \u001b[?25ldone\n",
      "\u001b[?25hRequirement already satisfied: pandas in /Users/tessanderson/anaconda3/lib/python3.10/site-packages (from pydataset) (1.5.3)\n",
      "Requirement already satisfied: python-dateutil>=2.8.1 in /Users/tessanderson/anaconda3/lib/python3.10/site-packages (from pandas->pydataset) (2.8.2)\n",
      "Requirement already satisfied: pytz>=2020.1 in /Users/tessanderson/anaconda3/lib/python3.10/site-packages (from pandas->pydataset) (2022.7)\n",
      "Requirement already satisfied: numpy>=1.21.0 in /Users/tessanderson/anaconda3/lib/python3.10/site-packages (from pandas->pydataset) (1.23.5)\n",
      "Requirement already satisfied: six>=1.5 in /Users/tessanderson/anaconda3/lib/python3.10/site-packages (from python-dateutil>=2.8.1->pandas->pydataset) (1.16.0)\n",
      "Building wheels for collected packages: pydataset\n",
      "  Building wheel for pydataset (setup.py) ... \u001b[?25ldone\n",
      "\u001b[?25h  Created wheel for pydataset: filename=pydataset-0.2.0-py3-none-any.whl size=15939418 sha256=e695780199d84d3945a60f2aba7a0c011bf649f08f22d9cd3b6ed645c37c505f\n",
      "  Stored in directory: /Users/tessanderson/Library/Caches/pip/wheels/af/26/f6/2b0f6bbcccc53e742b778415e25002df5cabf05f4537d80dad\n",
      "Successfully built pydataset\n",
      "Installing collected packages: pydataset\n",
      "Successfully installed pydataset-0.2.0\n"
     ]
    }
   ],
   "source": [
    "!pip install pydataset"
   ]
  },
  {
   "cell_type": "code",
   "execution_count": 15,
   "metadata": {},
   "outputs": [
    {
     "name": "stdout",
     "output_type": "stream",
     "text": [
      "initiated datasets repo at: /Users/tessanderson/.pydataset/\n"
     ]
    }
   ],
   "source": [
    "# import packages\n",
    "import pandas as pd\n",
    "import numpy as np\n",
    "from os import makedirs\n",
    "from os import path\n",
    "import math\n",
    "from scipy.sparse import csr_matrix\n",
    "\n",
    "import matplotlib.pyplot as plt\n",
    "import seaborn as sns\n",
    "\n",
    "import nltk.downloader\n",
    "from nltk.tokenize import RegexpTokenizer\n",
    "from nltk.corpus import stopwords\n",
    "from nltk.stem import PorterStemmer\n",
    "from sklearn.feature_extraction.text import CountVectorizer\n",
    "from collections import Counter\n",
    "from nltk.util import ngrams\n",
    "\n",
    "from sklearn.model_selection import train_test_split\n",
    "from sklearn.linear_model import LogisticRegression\n",
    "from sklearn import metrics\n",
    "from pydataset import data\n",
    "from sklearn.ensemble        import BaggingClassifier, \\\n",
    "         ExtraTreesClassifier, RandomForestClassifier\n",
    "from sklearn.neighbors       import KNeighborsClassifier\n",
    "from sklearn.linear_model    import RidgeClassifier\n",
    "from sklearn.svm             import SVC\n",
    "from sklearn.tree import plot_tree\n",
    "from sklearn.tree import DecisionTreeClassifier\n",
    "\n",
    "import pickle\n",
    "import json\n",
    "\n",
    "df = pd.read_csv('twitter_sentiment_data.csv')"
   ]
  },
  {
   "cell_type": "code",
   "execution_count": 3,
   "metadata": {},
   "outputs": [],
   "source": [
    "# set up label dataframe for future refrences\n",
    "\n",
    "label = [-1, 0, 1, 2]\n",
    "labelN = [\"Anti\", \"Neutral\", \"Pro\", \"News\"]\n",
    "labelDesc = [\n",
    "    \"the tweet does not believe in man-made climate change\"\n",
    "    , \"the tweet neither supports nor refutes the belief of man-made climate change\"\n",
    "    , \"the tweet supports the belief of man-made climate change\"\n",
    "    , \"the tweet links to factual news about climate change\"\n",
    "]\n",
    "\n",
    "labelDf = pd.DataFrame(list(zip(label, labelN, labelDesc)), columns=[\"label\", \"name\", \"description\"])"
   ]
  },
  {
   "cell_type": "code",
   "execution_count": 4,
   "metadata": {},
   "outputs": [
    {
     "data": {
      "text/html": [
       "<div>\n",
       "<style scoped>\n",
       "    .dataframe tbody tr th:only-of-type {\n",
       "        vertical-align: middle;\n",
       "    }\n",
       "\n",
       "    .dataframe tbody tr th {\n",
       "        vertical-align: top;\n",
       "    }\n",
       "\n",
       "    .dataframe thead th {\n",
       "        text-align: right;\n",
       "    }\n",
       "</style>\n",
       "<table border=\"1\" class=\"dataframe\">\n",
       "  <thead>\n",
       "    <tr style=\"text-align: right;\">\n",
       "      <th></th>\n",
       "      <th>sentiment</th>\n",
       "      <th>message</th>\n",
       "      <th>tweetid</th>\n",
       "    </tr>\n",
       "  </thead>\n",
       "  <tbody>\n",
       "    <tr>\n",
       "      <th>0</th>\n",
       "      <td>-1</td>\n",
       "      <td>@tiniebeany climate change is an interesting h...</td>\n",
       "      <td>792927353886371840</td>\n",
       "    </tr>\n",
       "    <tr>\n",
       "      <th>1</th>\n",
       "      <td>1</td>\n",
       "      <td>RT @NatGeoChannel: Watch #BeforeTheFlood right...</td>\n",
       "      <td>793124211518832641</td>\n",
       "    </tr>\n",
       "    <tr>\n",
       "      <th>2</th>\n",
       "      <td>1</td>\n",
       "      <td>Fabulous! Leonardo #DiCaprio's film on #climat...</td>\n",
       "      <td>793124402388832256</td>\n",
       "    </tr>\n",
       "    <tr>\n",
       "      <th>3</th>\n",
       "      <td>1</td>\n",
       "      <td>RT @Mick_Fanning: Just watched this amazing do...</td>\n",
       "      <td>793124635873275904</td>\n",
       "    </tr>\n",
       "    <tr>\n",
       "      <th>4</th>\n",
       "      <td>2</td>\n",
       "      <td>RT @cnalive: Pranita Biswasi, a Lutheran from ...</td>\n",
       "      <td>793125156185137153</td>\n",
       "    </tr>\n",
       "  </tbody>\n",
       "</table>\n",
       "</div>"
      ],
      "text/plain": [
       "   sentiment                                            message  \\\n",
       "0         -1  @tiniebeany climate change is an interesting h...   \n",
       "1          1  RT @NatGeoChannel: Watch #BeforeTheFlood right...   \n",
       "2          1  Fabulous! Leonardo #DiCaprio's film on #climat...   \n",
       "3          1  RT @Mick_Fanning: Just watched this amazing do...   \n",
       "4          2  RT @cnalive: Pranita Biswasi, a Lutheran from ...   \n",
       "\n",
       "              tweetid  \n",
       "0  792927353886371840  \n",
       "1  793124211518832641  \n",
       "2  793124402388832256  \n",
       "3  793124635873275904  \n",
       "4  793125156185137153  "
      ]
     },
     "execution_count": 4,
     "metadata": {},
     "output_type": "execute_result"
    }
   ],
   "source": [
    "df.head()"
   ]
  },
  {
   "cell_type": "code",
   "execution_count": 5,
   "metadata": {},
   "outputs": [
    {
     "name": "stdout",
     "output_type": "stream",
     "text": [
      "<class 'pandas.core.frame.DataFrame'>\n",
      "RangeIndex: 43943 entries, 0 to 43942\n",
      "Data columns (total 3 columns):\n",
      " #   Column     Non-Null Count  Dtype \n",
      "---  ------     --------------  ----- \n",
      " 0   sentiment  43943 non-null  int64 \n",
      " 1   message    43943 non-null  object\n",
      " 2   tweetid    43943 non-null  int64 \n",
      "dtypes: int64(2), object(1)\n",
      "memory usage: 1.0+ MB\n"
     ]
    }
   ],
   "source": [
    "df.info()"
   ]
  },
  {
   "cell_type": "markdown",
   "metadata": {},
   "source": [
    "Distribution of Sentiments"
   ]
  },
  {
   "cell_type": "code",
   "execution_count": 9,
   "metadata": {},
   "outputs": [
    {
     "data": {
      "image/png": "[encoded data removed]",
      "text/plain": [
       "<Figure size 700x700 with 1 Axes>"
      ]
     },
     "metadata": {},
     "output_type": "display_data"
    }
   ],
   "source": [
    "plt.figure(figsize=(7,7))\n",
    "plt.pie(df.sentiment.value_counts().values, \n",
    "        labels = df.sentiment.value_counts().index, \n",
    "        autopct = '%2.1f%%', \n",
    "        textprops={'fontsize': 15})\n",
    "plt.title(\"Sentiment Distribution of the Tweet Dataset\",\n",
    "          fontsize=20)\n",
    "plt.tight_layout()\n",
    "plt.show()"
   ]
  },
  {
   "cell_type": "code",
   "execution_count": 10,
   "metadata": {},
   "outputs": [
    {
     "data": {
      "text/plain": [
       " 1    22962\n",
       " 2     9276\n",
       " 0     7715\n",
       "-1     3990\n",
       "Name: sentiment, dtype: int64"
      ]
     },
     "execution_count": 10,
     "metadata": {},
     "output_type": "execute_result"
    }
   ],
   "source": [
    "df.sentiment.value_counts()"
   ]
  },
  {
   "cell_type": "code",
   "execution_count": 11,
   "metadata": {},
   "outputs": [],
   "source": [
    "dfTweets=df['message']"
   ]
  },
  {
   "cell_type": "markdown",
   "metadata": {},
   "source": [
    "Tokenization"
   ]
  },
  {
   "cell_type": "code",
   "execution_count": 16,
   "metadata": {},
   "outputs": [],
   "source": [
    "def createTokenizedArray(sentences):\n",
    "    '''\n",
    "    Create lower case array of words with no punctuation.\n",
    "    :param sentences: array or series of texts\n",
    "    :return: lower case array of words with no punctuation.\n",
    "    '''\n",
    "    # Initialize tokenizer and empty array to store modified sentences.\n",
    "    tokenizer = RegexpTokenizer(r'\\w+')\n",
    "    tokenizedArray = []\n",
    "    for i in range(0, len(sentences)):\n",
    "        # Convert sentence to lower case.\n",
    "        sentence = sentences[i].lower()\n",
    "\n",
    "        # Split sentence into array of words with no punctuation.\n",
    "        words = tokenizer.tokenize(sentence)\n",
    "\n",
    "        # Append word array to list.\n",
    "        tokenizedArray.append(words)\n",
    "\n",
    "    # print(tokenizedArray)\n",
    "    return tokenizedArray  # send modified contents back to calling function."
   ]
  },
  {
   "cell_type": "code",
   "execution_count": 17,
   "metadata": {},
   "outputs": [
    {
     "data": {
      "text/plain": [
       "0    [tiniebeany, climate, change, is, an, interesting, hustle, as, it, was, global, warmin...\n",
       "1    [rt, natgeochannel, watch, beforetheflood, right, here, as, leodicaprio, travels, the,...\n",
       "2    [fabulous, leonardo, dicaprio, s, film, on, climate, change, is, brilliant, do, watch,...\n",
       "3    [rt, mick_fanning, just, watched, this, amazing, documentary, by, leonardodicaprio, on...\n",
       "4    [rt, cnalive, pranita, biswasi, a, lutheran, from, odisha, gives, testimony, on, effec...\n",
       "dtype: object"
      ]
     },
     "execution_count": 17,
     "metadata": {},
     "output_type": "execute_result"
    }
   ],
   "source": [
    "tokenizedLi = createTokenizedArray(dfTweets)\n",
    "\n",
    "pd.Series(tokenizedLi[:5])"
   ]
  },
  {
   "cell_type": "code",
   "execution_count": 18,
   "metadata": {},
   "outputs": [
    {
     "name": "stderr",
     "output_type": "stream",
     "text": [
      "[nltk_data] Downloading package stopwords to\n",
      "[nltk_data]     /Users/tessanderson/nltk_data...\n",
      "[nltk_data]   Unzipping corpora/stopwords.zip.\n"
     ]
    }
   ],
   "source": [
    "# To get stop words.\n",
    "nltk.download('stopwords')\n",
    "\n",
    "def removeStopWords(tokenList):\n",
    "    '''\n",
    "    Create array of words with no punctuation or stop words.\n",
    "    :param tokenList: tokenized list\n",
    "    :return: array of words with no punctuation or stop words.\n",
    "    '''\n",
    "    stopWords = set(stopwords.words('english'))\n",
    "    shorterSentences = []  # Declare empty array of sentences.\n",
    "\n",
    "    for sentence in tokenList:\n",
    "        shorterSentence = []  # Declare empty array of words in single sentence.\n",
    "        for word in sentence:\n",
    "            if word not in stopWords:\n",
    "\n",
    "                # Remove leading and trailing spaces.\n",
    "                word = word.strip()\n",
    "\n",
    "                # Ignore single character words and digits.\n",
    "                if (len(word) > 1 and word.isdigit() == False):\n",
    "                    # Add remaining words to list.\n",
    "                    shorterSentence.append(word)\n",
    "        shorterSentences.append(shorterSentence)\n",
    "    return shorterSentences"
   ]
  },
  {
   "cell_type": "code",
   "execution_count": 19,
   "metadata": {},
   "outputs": [
    {
     "name": "stdout",
     "output_type": "stream",
     "text": [
      "Sample sentence BEFORE removing stop words:\n",
      "['tiniebeany', 'climate', 'change', 'is', 'an', 'interesting', 'hustle', 'as', 'it', 'was', 'global', 'warming', 'but', 'the', 'planet', 'stopped', 'warming', 'for', '15', 'yes', 'while', 'the', 'suv', 'boom']\n",
      "\n",
      "\n",
      "Sample sentence AFTER removing stop words:\n",
      "['tiniebeany', 'climate', 'change', 'interesting', 'hustle', 'global', 'warming', 'planet', 'stopped', 'warming', 'yes', 'suv', 'boom']\n"
     ]
    }
   ],
   "source": [
    "tokenizedNoStopLi = removeStopWords(tokenizedLi)\n",
    "\n",
    "print(f\"Sample sentence BEFORE removing stop words:\\n{tokenizedLi[0]}\")\n",
    "print(f\"\\n\\nSample sentence AFTER removing stop words:\\n{tokenizedNoStopLi[0]}\")"
   ]
  },
  {
   "cell_type": "markdown",
   "metadata": {},
   "source": [
    "Stemming"
   ]
  },
  {
   "cell_type": "code",
   "execution_count": 20,
   "metadata": {},
   "outputs": [],
   "source": [
    "def stemWords(sentenceArrays):\n",
    "    '''\n",
    "    Removes suffixes and rebuilds the sentences.\n",
    "    :param sentenceArrays: stentences list\n",
    "    :return: array of sentences without suffixes\n",
    "    '''\n",
    "    ps = PorterStemmer()\n",
    "    stemmedSentences = []\n",
    "    for sentenceArray in sentenceArrays:\n",
    "        stemmedArray = []  # Declare empty array of words.\n",
    "        for word in sentenceArray:\n",
    "            stemmedArray.append(ps.stem(word))  # Add stemmed word.\n",
    "\n",
    "        # Convert array back to sentence of stemmed words.\n",
    "        delimeter = ' '\n",
    "        sentence = delimeter.join(stemmedArray)\n",
    "\n",
    "        # Append stemmed sentence to list of sentences.\n",
    "        stemmedSentences.append(sentence)\n",
    "    return stemmedSentences"
   ]
  },
  {
   "cell_type": "code",
   "execution_count": 21,
   "metadata": {},
   "outputs": [
    {
     "name": "stdout",
     "output_type": "stream",
     "text": [
      "Sample sentence BEFORE stemming:\n",
      "['tiniebeany', 'climate', 'change', 'interesting', 'hustle', 'global', 'warming', 'planet', 'stopped', 'warming', 'yes', 'suv', 'boom']\n",
      "\n",
      "Sample sentence AFTER stemming:\n",
      "tiniebeani climat chang interest hustl global warm planet stop warm ye suv boom\n"
     ]
    }
   ],
   "source": [
    "stemmedLi = stemWords(tokenizedNoStopLi)\n",
    "\n",
    "print(f\"Sample sentence BEFORE stemming:\\n{tokenizedNoStopLi[0]}\")\n",
    "print(f\"\\nSample sentence AFTER stemming:\\n{stemmedLi[0]}\")"
   ]
  },
  {
   "cell_type": "markdown",
   "metadata": {},
   "source": [
    "vectorization"
   ]
  },
  {
   "cell_type": "code",
   "execution_count": 22,
   "metadata": {},
   "outputs": [],
   "source": [
    "def vectorizeList(stemmedList, ngramRangeStart, ngramRangeEnd):\n",
    "    '''\n",
    "    Creates a matrix of word vectors.\n",
    "    :param stemmedList: stemmed sentence list\n",
    "    :return: matrix of word vectors and vocabulary dictionary\n",
    "    '''\n",
    "    cv = CountVectorizer(binary=True, ngram_range=(ngramRangeStart, ngramRangeEnd))\n",
    "    cv.fit(stemmedList)\n",
    "    X = cv.transform(stemmedList)\n",
    "\n",
    "    return X, cv.vocabulary_"
   ]
  },
  {
   "cell_type": "code",
   "execution_count": 23,
   "metadata": {},
   "outputs": [],
   "source": [
    "vectorizedTweets, vectorDictionary = vectorizeList(stemmedLi, 1, 1)"
   ]
  },
  {
   "cell_type": "code",
   "execution_count": 24,
   "metadata": {},
   "outputs": [
    {
     "name": "stdout",
     "output_type": "stream",
     "text": [
      "Sample sentence #1:\n",
      "tiniebeani climat chang interest hustl global warm planet stop warm ye suv boom\n",
      "Sample sentence #2:\n",
      "rt natgeochannel watch beforetheflood right leodicaprio travel world tackl climat chang http co lkdehj3tnn httã\n"
     ]
    }
   ],
   "source": [
    "print(f\"Sample sentence #1:\\n{stemmedLi[0]}\")\n",
    "print(f\"Sample sentence #2:\\n{stemmedLi[1]}\")"
   ]
  },
  {
   "cell_type": "code",
   "execution_count": 25,
   "metadata": {},
   "outputs": [
    {
     "name": "stdout",
     "output_type": "stream",
     "text": [
      "\n",
      "#1 after vectorization:\n",
      "  (0, 10652)\t1\n",
      "  (0, 12943)\t1\n",
      "  (0, 13774)\t1\n",
      "  (0, 24524)\t1\n",
      "  (0, 27759)\t1\n",
      "  (0, 29419)\t1\n",
      "  (0, 45475)\t1\n",
      "  (0, 54598)\t1\n",
      "  (0, 55193)\t1\n",
      "  (0, 57219)\t1\n",
      "  (0, 61855)\t1\n",
      "  (0, 64839)\t1\n",
      "#2 after vectorization:\n",
      "  (0, 9419)\t1\n",
      "  (0, 12943)\t1\n",
      "  (0, 13774)\t1\n",
      "  (0, 14222)\t1\n",
      "  (0, 27583)\t1\n",
      "  (0, 27591)\t1\n",
      "  (0, 35060)\t1\n",
      "  (0, 35653)\t1\n",
      "  (0, 40355)\t1\n",
      "  (0, 49581)\t1\n",
      "  (0, 50386)\t1\n",
      "  (0, 55654)\t1\n",
      "  (0, 57882)\t1\n",
      "  (0, 61927)\t1\n",
      "  (0, 63129)\t1\n"
     ]
    }
   ],
   "source": [
    "print(f\"\\n#1 after vectorization:\\n{vectorizedTweets[0]}\")\n",
    "print(f\"#2 after vectorization:\\n{vectorizedTweets[1]}\")"
   ]
  }
 ],
 "metadata": {
  "kernelspec": {
   "display_name": "base",
   "language": "python",
   "name": "python3"
  },
  "language_info": {
   "codemirror_mode": {
    "name": "ipython",
    "version": 3
   },
   "file_extension": ".py",
   "mimetype": "text/x-python",
   "name": "python",
   "nbconvert_exporter": "python",
   "pygments_lexer": "ipython3",
   "version": "3.10.9"
  },
  "orig_nbformat": 4
 },
 "nbformat": 4,
 "nbformat_minor": 2
}
